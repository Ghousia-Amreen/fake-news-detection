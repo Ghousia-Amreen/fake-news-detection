{
 "cells": [
  {
   "cell_type": "code",
   "execution_count": 4,
   "id": "b3fea6d5",
   "metadata": {},
   "outputs": [],
   "source": [
    "import pandas as pd\n"
   ]
  },
  {
   "cell_type": "code",
   "execution_count": 17,
   "id": "1db86b13",
   "metadata": {},
   "outputs": [
    {
     "name": "stdout",
     "output_type": "stream",
     "text": [
      "title    2961\n",
      "text     3609\n",
      "label    4321\n",
      "dtype: int64\n"
     ]
    }
   ],
   "source": [
    "print(df.isnull().sum())\n"
   ]
  },
  {
   "cell_type": "code",
   "execution_count": 18,
   "id": "1011379c",
   "metadata": {},
   "outputs": [],
   "source": [
    "# Combine 'title' and 'text' into a single column\n",
    "df['content'] = df['title'].fillna('') + ' ' + df['text'].fillna('')\n",
    "\n",
    "# Drop the original columns to keep only useful ones\n",
    "df = df[['content', 'label']]\n"
   ]
  },
  {
   "cell_type": "code",
   "execution_count": 19,
   "id": "6bbcdc83",
   "metadata": {},
   "outputs": [],
   "source": [
    "import re\n",
    "\n",
    "def clean_text(text):\n",
    "    text = text.lower()  # lowercase\n",
    "    text = re.sub(r'[^\\w\\s]', '', text)  # remove punctuation\n",
    "    text = re.sub(r'\\d+', '', text)  # remove digits\n",
    "    return text\n",
    "\n",
    "df['content'] = df['content'].apply(clean_text)\n"
   ]
  },
  {
   "cell_type": "code",
   "execution_count": 20,
   "id": "c834f05c",
   "metadata": {},
   "outputs": [],
   "source": [
    "from sklearn.model_selection import train_test_split\n",
    "\n",
    "X = df['content']\n",
    "y = df['label']\n",
    "\n",
    "X_train, X_test, y_train, y_test = train_test_split(X, y, test_size=0.2, random_state=42)\n"
   ]
  },
  {
   "cell_type": "code",
   "execution_count": null,
   "id": "4843e401",
   "metadata": {},
   "outputs": [],
   "source": [
    "import pickle\n",
    "\n",
    "# Save the model\n",
    "with open('fake_news_model.pkl', 'wb') as model_file:\n",
    "    pickle.dump(model, model_file)\n",
    "\n",
    "# Save the vectorizer\n",
    "with open('tfidf_vectorizer.pkl', 'wb') as vec_file:\n",
    "    pickle.dump(vectorizer, vec_file)\n"
   ]
  },
  {
   "cell_type": "code",
   "execution_count": 23,
   "id": "8c636862",
   "metadata": {},
   "outputs": [
    {
     "name": "stdout",
     "output_type": "stream",
     "text": [
      "X_train_tfidf shape: (62477, 372028)\n",
      "y_train shape: (62477,)\n"
     ]
    }
   ],
   "source": [
    "print(\"X_train_tfidf shape:\", X_train_tfidf.shape)\n",
    "print(\"y_train shape:\", y_train.shape)\n"
   ]
  },
  {
   "cell_type": "code",
   "execution_count": 24,
   "id": "a7c0e306",
   "metadata": {},
   "outputs": [
    {
     "name": "stdout",
     "output_type": "stream",
     "text": [
      "content       0\n",
      "label      4321\n",
      "dtype: int64\n"
     ]
    }
   ],
   "source": [
    "print(df.isnull().sum())\n"
   ]
  },
  {
   "cell_type": "code",
   "execution_count": 25,
   "id": "9b3c334a",
   "metadata": {},
   "outputs": [],
   "source": [
    "# Drop rows with missing labels\n",
    "df = df.dropna(subset=['label'])\n",
    "\n",
    "# Optional: Reset index to avoid alignment issues\n",
    "df = df.reset_index(drop=True)\n"
   ]
  },
  {
   "cell_type": "code",
   "execution_count": 26,
   "id": "206a59ff",
   "metadata": {},
   "outputs": [],
   "source": [
    "from sklearn.feature_extraction.text import TfidfVectorizer\n",
    "\n",
    "# Initialize the vectorizer\n",
    "vectorizer = TfidfVectorizer(stop_words='english', max_df=0.7)\n",
    "\n",
    "# Fit and transform the training data, transform the test data\n",
    "X_train_tfidf = vectorizer.fit_transform(X_train)\n",
    "X_test_tfidf = vectorizer.transform(X_test)\n"
   ]
  },
  {
   "cell_type": "code",
   "execution_count": 30,
   "id": "ff55d16d",
   "metadata": {},
   "outputs": [
    {
     "name": "stdout",
     "output_type": "stream",
     "text": [
      "Index(['content', 'label'], dtype='object')\n"
     ]
    }
   ],
   "source": [
    "print(df.columns)\n"
   ]
  },
  {
   "cell_type": "code",
   "execution_count": 31,
   "id": "1f0dd615",
   "metadata": {},
   "outputs": [],
   "source": [
    "df = df.dropna(subset=['content', 'label'])\n",
    "df = df.reset_index(drop=True)\n"
   ]
  },
  {
   "cell_type": "code",
   "execution_count": 33,
   "id": "dc84622a",
   "metadata": {},
   "outputs": [],
   "source": [
    "df = df.dropna(subset=['label'])\n"
   ]
  },
  {
   "cell_type": "code",
   "execution_count": 35,
   "id": "3561d2ed",
   "metadata": {},
   "outputs": [
    {
     "name": "stdout",
     "output_type": "stream",
     "text": [
      "['1' '0'\n",
      " ' Duncan explained â€œBaiame came from a place that we call the Morning Star within the Mirrabooka. Mira means stars and booka means river. That is the Milky Way that flows across the North Star. â€\\x9d43 Baiame'\n",
      " ...\n",
      " ' regardless of age differences. Itâ€™s a more civil way of life. There are loaded pistols'\n",
      " ' thanks entirely to the Marxist liberals. Fembot220 ' ' google']\n"
     ]
    }
   ],
   "source": [
    "print(df['label'].unique())\n"
   ]
  },
  {
   "cell_type": "code",
   "execution_count": 36,
   "id": "2c84c15c",
   "metadata": {},
   "outputs": [],
   "source": [
    "# Keep only rows where 'label' is either '0' or '1'\n",
    "df = df[df['label'].isin(['0', '1'])]\n",
    "\n",
    "# Now convert the 'label' column from string to integer\n",
    "df['label'] = df['label'].astype(int)\n"
   ]
  },
  {
   "cell_type": "code",
   "execution_count": 37,
   "id": "c12093e8",
   "metadata": {},
   "outputs": [
    {
     "name": "stdout",
     "output_type": "stream",
     "text": [
      "[1 0]\n",
      "content    0\n",
      "label      0\n",
      "dtype: int64\n"
     ]
    }
   ],
   "source": [
    "print(df['label'].unique())  # should print only: [0 1]\n",
    "print(df.isnull().sum())     # make sure no NaNs remain\n"
   ]
  },
  {
   "cell_type": "code",
   "execution_count": 38,
   "id": "6ffe78fc",
   "metadata": {},
   "outputs": [],
   "source": [
    "from sklearn.feature_extraction.text import TfidfVectorizer\n",
    "\n",
    "vectorizer = TfidfVectorizer(stop_words='english', max_df=0.7)\n",
    "X_train_tfidf = vectorizer.fit_transform(X_train)\n",
    "X_test_tfidf = vectorizer.transform(X_test)\n"
   ]
  },
  {
   "cell_type": "code",
   "execution_count": 47,
   "id": "d101baf7",
   "metadata": {},
   "outputs": [
    {
     "name": "stdout",
     "output_type": "stream",
     "text": [
      "[]\n"
     ]
    }
   ],
   "source": [
    "print(df['label'].unique())\n"
   ]
  },
  {
   "cell_type": "code",
   "execution_count": null,
   "id": "beeeb055",
   "metadata": {},
   "outputs": [],
   "source": [
    "# Step 1: Reload data\n",
    "df = pd.read_csv(\"dataset/WELFake_Dataset.csv\")\n",
    "\n",
    "# Step 2: Drop columns that are completely NaN\n",
    "df = df.dropna(axis=1, how='all')\n",
    "\n",
    "# Step 3: Keep only useful columns\n",
    "df = df[['title', 'text', 'label']]\n",
    "\n",
    "# Step 4: Merge title and text into 'content'\n",
    "df['content'] = df['title'].astype(str) + \" \" + df['text'].astype(str)\n",
    "\n",
    "# Step 5: Drop rows where label is null\n",
    "df = df.dropna(subset=['label'])\n",
    "\n",
    "# Step 6: Check unique values before filtering\n",
    "print(df['label'].unique())  # << LOOK AT THIS OUTPUT\n",
    "\n",
    "# Step 7: Filter only valid binary values\n",
    "df = df[df['label'].astype(str).isin(['0', '1'])]\n",
    "\n",
    "# Step 8: Convert to int\n",
    "df['label'] = df['label'].astype(int)\n",
    "\n",
    "# Step 9: Final check\n",
    "print(df['label'].unique())\n"
   ]
  },
  {
   "cell_type": "code",
   "execution_count": null,
   "id": "73d144d5",
   "metadata": {},
   "outputs": [],
   "source": [
    "X = df['content']\n",
    "y = df['label']\n"
   ]
  },
  {
   "cell_type": "code",
   "execution_count": null,
   "id": "c81d0bbc",
   "metadata": {},
   "outputs": [],
   "source": [
    "print(df['label'].value_counts())\n"
   ]
  },
  {
   "cell_type": "code",
   "execution_count": null,
   "id": "8749dcb7",
   "metadata": {},
   "outputs": [],
   "source": [
    "# Keep only 'content' and 'label' columns\n",
    "df = df[['title', 'text', 'label']]\n",
    "df['content'] = df['title'].astype(str) + \" \" + df['text'].astype(str)\n",
    "\n",
    "# Drop rows with missing content or label\n",
    "df = df.dropna(subset=['content', 'label'])\n",
    "\n",
    "# Now split the data\n",
    "from sklearn.model_selection import train_test_split\n",
    "X = df['content']\n",
    "y = df['label']\n",
    "X_train, X_test, y_train, y_test = train_test_split(X, y, test_size=0.2, random_state=42)\n",
    "\n",
    "# TF-IDF Vectorization\n",
    "from sklearn.feature_extraction.text import TfidfVectorizer\n",
    "vectorizer = TfidfVectorizer(stop_words='english', max_df=0.7)\n",
    "X_train_tfidf = vectorizer.fit_transform(X_train)\n",
    "X_test_tfidf = vectorizer.transform(X_test)\n",
    "\n",
    "# Model training\n",
    "from sklearn.linear_model import LogisticRegression\n",
    "from sklearn.metrics import accuracy_score, classification_report\n",
    "\n",
    "model = LogisticRegression()\n",
    "model.fit(X_train_tfidf, y_train)\n",
    "y_pred = model.predict(X_test_tfidf)\n",
    "\n",
    "# Evaluation\n",
    "print(\"Accuracy:\", accuracy_score(y_test, y_pred))\n",
    "print(\"\\nClassification Report:\\n\", classification_report(y_test, y_pred))\n"
   ]
  },
  {
   "cell_type": "code",
   "execution_count": null,
   "id": "ff4b8ce5",
   "metadata": {},
   "outputs": [],
   "source": [
    "print(y_pred[:10])  # see first 10 predictions\n"
   ]
  },
  {
   "cell_type": "code",
   "execution_count": null,
   "id": "5b541c62",
   "metadata": {},
   "outputs": [],
   "source": [
    "import joblib\n",
    "\n",
    "# Save the model\n",
    "joblib.dump(model, 'fake_news_model.pkl')\n",
    "\n",
    "# Save the vectorizer\n",
    "joblib.dump(vectorizer, 'tfidf_vectorizer.pkl')\n",
    "\n",
    "print(\"✅ Model and vectorizer saved successfully.\")\n"
   ]
  },
  {
   "cell_type": "code",
   "execution_count": null,
   "id": "12554568",
   "metadata": {},
   "outputs": [],
   "source": [
    "# Load the model and vectorizer\n",
    "model = joblib.load('fake_news_model.pkl')\n",
    "vectorizer = joblib.load('tfidf_vectorizer.pkl')\n",
    "\n",
    "# Example prediction\n",
    "sample_text = [\"Breaking: PM announces new scheme...\"]\n",
    "sample_tfidf = vectorizer.transform(sample_text)\n",
    "prediction = model.predict(sample_tfidf)\n",
    "\n",
    "print(\"Prediction:\", prediction[0])  # 0 = Real, 1 = Fake\n"
   ]
  },
  {
   "cell_type": "code",
   "execution_count": null,
   "id": "c127ec7e",
   "metadata": {},
   "outputs": [],
   "source": [
    "user_input = input(\"tomorrow is going to rain: \")\n",
    "sample_tfidf = vectorizer.transform([user_input])\n",
    "result = model.predict(sample_tfidf)[0]\n",
    "\n",
    "if result == 1:\n",
    "    print(\"🔴 This news is FAKE.\")\n",
    "else:\n",
    "    print(\"🟢 This news is REAL.\")\n"
   ]
  },
  {
   "cell_type": "code",
   "execution_count": null,
   "id": "f1064c85",
   "metadata": {},
   "outputs": [],
   "source": [
    "import tkinter as tk\n",
    "from tkinter import messagebox\n",
    "import joblib\n",
    "\n",
    "# Load the saved model and vectorizer\n",
    "model = joblib.load(\"fake_news_model.pkl\")\n",
    "vectorizer = joblib.load(\"tfidf_vectorizer.pkl\")\n",
    "\n",
    "# Predict function\n",
    "def detect_fake_news():\n",
    "    news_text = entry.get(\"1.0\", tk.END).strip()  # Get text from input box\n",
    "    if not news_text:\n",
    "        messagebox.showwarning(\"Input Error\", \"Please enter some news content.\")\n",
    "        return\n",
    "    \n",
    "    transformed_text = vectorizer.transform([news_text])\n",
    "    prediction = model.predict(transformed_text)[0]\n",
    "    \n",
    "    if prediction == 1:\n",
    "        result_label.config(text=\"❌ This news is FAKE!\", fg=\"red\")\n",
    "    else:\n",
    "        result_label.config(text=\"✅ This news is REAL!\", fg=\"green\")\n",
    "\n",
    "# Create GUI window\n",
    "root = tk.Tk()\n",
    "root.title(\"Fake News Detector\")\n",
    "root.geometry(\"500x300\")\n",
    "root.configure(bg=\"white\")\n",
    "\n",
    "# Heading\n",
    "tk.Label(root, text=\"Fake News Detector\", font=(\"Helvetica\", 18, \"bold\"), bg=\"white\").pack(pady=10)\n",
    "\n",
    "# Text entry box\n",
    "entry = tk.Text(root, height=7, width=55, font=(\"Arial\", 11))\n",
    "entry.pack(pady=10)\n",
    "\n",
    "# Predict button\n",
    "tk.Button(root, text=\"Check News\", font=(\"Arial\", 12), command=detect_fake_news).pack(pady=5)\n",
    "\n",
    "# Result label\n",
    "result_label = tk.Label(root, text=\"\", font=(\"Arial\", 14, \"bold\"), bg=\"white\")\n",
    "result_label.pack(pady=10)\n",
    "\n",
    "# Run the GUI loop\n",
    "root.mainloop()\n"
   ]
  },
  {
   "cell_type": "code",
   "execution_count": null,
   "id": "5c911772",
   "metadata": {},
   "outputs": [],
   "source": [
    "user_input = input(\"tomorrow is holidayy enjoyyy!!: \")\n",
    "sample_tfidf = vectorizer.transform([user_input])\n",
    "result = model.predict(sample_tfidf)[0]\n",
    "\n",
    "if result == 1:\n",
    "    print(\"🔴 This news is FAKE.\")\n",
    "else:\n",
    "    print(\"🟢 This news is REAL.\")\n"
   ]
  },
  {
   "cell_type": "code",
   "execution_count": null,
   "id": "a180122a",
   "metadata": {},
   "outputs": [],
   "source": [
    "python fake_news_gui.py\n"
   ]
  },
  {
   "cell_type": "code",
   "execution_count": null,
   "id": "dacbdf5d",
   "metadata": {},
   "outputs": [],
   "source": []
  }
 ],
 "metadata": {
  "kernelspec": {
   "display_name": "Python 3 (ipykernel)",
   "language": "python",
   "name": "python3"
  },
  "language_info": {
   "codemirror_mode": {
    "name": "ipython",
    "version": 3
   },
   "file_extension": ".py",
   "mimetype": "text/x-python",
   "name": "python",
   "nbconvert_exporter": "python",
   "pygments_lexer": "ipython3",
   "version": "3.11.5"
  }
 },
 "nbformat": 4,
 "nbformat_minor": 5
}
